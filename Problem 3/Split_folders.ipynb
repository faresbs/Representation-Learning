{
 "cells": [
  {
   "cell_type": "code",
   "execution_count": 7,
   "metadata": {},
   "outputs": [],
   "source": [
    "import os\n",
    "import numpy as np\n",
    "import shutil\n",
    "\n",
    "# # Creating Train / Val / Test folders (One time use)\n",
    "dest_dir = 'newsplit'\n",
    "Cats = '/Cat'\n",
    "Dogs = '/Dog'\n",
    "\n",
    "os.makedirs(dest_dir +'/train' + Cats)\n",
    "os.makedirs(dest_dir +'/train' + Dogs)\n",
    "os.makedirs(dest_dir +'/val' + Cats)\n",
    "os.makedirs(dest_dir +'/val' + Dogs)\n",
    "\n",
    "# Creating partitions of the data after shuffeling\n",
    "\n",
    "src_1 = \"trainset\"+Cats # Folder to copy images from\n",
    "src_2 = \"trainset\"+Dogs\n",
    "\n",
    "dest_train = dest_dir+\"/train\"\n",
    "dest_val = dest_dir+\"/val\""
   ]
  },
  {
   "cell_type": "code",
   "execution_count": 8,
   "metadata": {},
   "outputs": [
    {
     "name": "stdout",
     "output_type": "stream",
     "text": [
      "(9999,)\n",
      "(9999,)\n"
     ]
    }
   ],
   "source": [
    "CatsFileNames = os.listdir(src_1)\n",
    "print(np.asarray(CatsFileNames).shape)\n",
    "\n",
    "DogsFileNames = os.listdir(src_2)\n",
    "print(np.asarray(DogsFileNames).shape)"
   ]
  },
  {
   "cell_type": "code",
   "execution_count": 9,
   "metadata": {},
   "outputs": [
    {
     "name": "stdout",
     "output_type": "stream",
     "text": [
      "Total Cats images:  9999\n",
      "Training:  8999\n",
      "Validation:  1000\n",
      "Total Dogs images:  9999\n",
      "Training:  8999\n",
      "Validation:  1000\n"
     ]
    }
   ],
   "source": [
    "np.random.shuffle(CatsFileNames)\n",
    "np.random.shuffle(DogsFileNames)\n",
    "\n",
    "train_FileNames1, _, val_FileNames1 = np.split(np.array(CatsFileNames),\n",
    "                                                          [int(len(CatsFileNames)*0.9), int(len(CatsFileNames)*0.9)])\n",
    "\n",
    "train_FileNames2, _, val_FileNames2 = np.split(np.array(DogsFileNames),\n",
    "                                                          [int(len(DogsFileNames)*0.9), int(len(DogsFileNames)*0.9)])\n",
    "\n",
    "\n",
    "train_FileNames1 = [src_1+'/'+ name for name in train_FileNames1.tolist()]\n",
    "val_FileNames1 = [src_1+'/' + name for name in val_FileNames1.tolist()]\n",
    "\n",
    "train_FileNames2 = [src_2+'/'+ name for name in train_FileNames2.tolist()]\n",
    "val_FileNames2 = [src_2+'/' + name for name in val_FileNames2.tolist()]\n",
    "\n",
    "print('Total Cats images: ', len(CatsFileNames))\n",
    "print('Training: ', len(train_FileNames1))\n",
    "print('Validation: ', len(val_FileNames1))\n",
    "\n",
    "print('Total Dogs images: ', len(DogsFileNames))\n",
    "print('Training: ', len(train_FileNames2))\n",
    "print('Validation: ', len(val_FileNames2))\n",
    "#print('Testing: ', len(test_FileNames))"
   ]
  },
  {
   "cell_type": "code",
   "execution_count": 10,
   "metadata": {},
   "outputs": [],
   "source": [
    "# Copy-pasting images\n",
    "for name in train_FileNames1:\n",
    "    shutil.copy(name, dest_train+Cats)\n",
    "\n",
    "for name in val_FileNames1:\n",
    "    shutil.copy(name, dest_val+Cats)\n",
    "    \n",
    "for name in train_FileNames2:\n",
    "    shutil.copy(name, dest_train+Dogs)\n",
    "\n",
    "for name in val_FileNames2:\n",
    "    shutil.copy(name, dest_val+Dogs)\n",
    "#for name in test_FileNames:\n",
    " #   shutil.copy(name, \"Data2/test\"+currentCls)"
   ]
  },
  {
   "cell_type": "code",
   "execution_count": null,
   "metadata": {},
   "outputs": [],
   "source": []
  }
 ],
 "metadata": {
  "kernelspec": {
   "display_name": "Python 3",
   "language": "python",
   "name": "python3"
  },
  "language_info": {
   "codemirror_mode": {
    "name": "ipython",
    "version": 3
   },
   "file_extension": ".py",
   "mimetype": "text/x-python",
   "name": "python",
   "nbconvert_exporter": "python",
   "pygments_lexer": "ipython3",
   "version": "3.6.6"
  }
 },
 "nbformat": 4,
 "nbformat_minor": 2
}
